{
 "cells": [
  {
   "cell_type": "code",
   "execution_count": 1,
   "id": "e7ae531f",
   "metadata": {},
   "outputs": [],
   "source": [
    "# Import all necessary libraries\n",
    "\n",
    "from sklearn import preprocessing\n",
    "from sklearn.naive_bayes import GaussianNB\n",
    "import pandas as pd\n",
    "from sklearn.model_selection import train_test_split\n",
    "from sklearn.metrics import confusion_matrix\n",
    "from sklearn import metrics\n",
    "from sklearn.metrics import plot_confusion_matrix\n",
    "import numpy as np\n",
    "import matplotlib.pyplot as plt"
   ]
  },
  {
   "cell_type": "code",
   "execution_count": 2,
   "id": "c2eff9d0",
   "metadata": {},
   "outputs": [],
   "source": [
    "# Read all data from both training and testing dataset\n",
    "\n",
    "data_train = pd.read_csv('play_tennis_train.csv')\n",
    "data_test = pd.read_csv('play_tennis_test.csv')"
   ]
  },
  {
   "cell_type": "code",
   "execution_count": 3,
   "id": "fd56a2e7",
   "metadata": {},
   "outputs": [],
   "source": [
    "# Encoding data from text into number\n",
    "le = preprocessing.LabelEncoder()\n",
    "data_train_df = pd.DataFrame(data_train)\n",
    "data_train_df_encoded = data_train_df.apply(le.fit_transform)\n",
    "\n",
    "data_test_df = pd.DataFrame(data_test)\n",
    "data_test_df_encoded = data_test_df.apply(le.fit_transform)"
   ]
  },
  {
   "cell_type": "code",
   "execution_count": 4,
   "id": "4397ba70",
   "metadata": {},
   "outputs": [],
   "source": [
    "# Splitting dataset into test and train variables\n",
    "x_train = data_train_df_encoded.drop(['play'],axis=1)\n",
    "y_train = data_train_df_encoded['play']\n",
    "\n",
    "x_test = data_test_df_encoded.drop(['play'],axis=1)\n",
    "y_test = data_test_df_encoded['play']"
   ]
  },
  {
   "cell_type": "code",
   "execution_count": 8,
   "id": "e64ff67f",
   "metadata": {},
   "outputs": [
    {
     "name": "stdout",
     "output_type": "stream",
     "text": [
      "Accuracy: 0.75\n",
      "Confusion Matrix\n"
     ]
    }
   ],
   "source": [
    "# In this classification, we use GaussianNB model for prediction\n",
    "model = GaussianNB()\n",
    "nbtrain = model.fit(x_train, y_train)\n",
    "\n",
    "y_pred = nbtrain.predict(x_test)\n",
    "print(\"Accuracy:\",metrics.accuracy_score(y_test, y_pred))"
   ]
  },
  {
   "cell_type": "code",
   "execution_count": 7,
   "id": "5ec74e37",
   "metadata": {},
   "outputs": [
    {
     "name": "stdout",
     "output_type": "stream",
     "text": [
      "Confusion Matrix\n",
      "[[1 0]\n",
      " [1 2]]\n"
     ]
    },
    {
     "name": "stderr",
     "output_type": "stream",
     "text": [
      "C:\\Users\\bveer\\anaconda3\\lib\\site-packages\\sklearn\\utils\\deprecation.py:87: FutureWarning: Function plot_confusion_matrix is deprecated; Function `plot_confusion_matrix` is deprecated in 1.0 and will be removed in 1.2. Use one of the class methods: ConfusionMatrixDisplay.from_predictions or ConfusionMatrixDisplay.from_estimator.\n",
      "  warnings.warn(msg, category=FutureWarning)\n"
     ]
    },
    {
     "data": {
      "image/png": "[encoded data removed]",
      "text/plain": [
       "<Figure size 432x288 with 2 Axes>"
      ]
     },
     "metadata": {
      "needs_background": "light"
     },
     "output_type": "display_data"
    }
   ],
   "source": [
    "# Display confusion matrix results\n",
    "disp = plot_confusion_matrix(nbtrain, x_test, y_test,\n",
    "                             display_labels=['No','Yes'],\n",
    "                             cmap=plt.cm.Blues)\n",
    "disp.ax_.set_title('Confusion Matrix')\n",
    "print('Confusion Matrix')\n",
    "print(disp.confusion_matrix)"
   ]
  }
 ],
 "metadata": {
  "kernelspec": {
   "display_name": "Python 3 (ipykernel)",
   "language": "python",
   "name": "python3"
  },
  "language_info": {
   "codemirror_mode": {
    "name": "ipython",
    "version": 3
   },
   "file_extension": ".py",
   "mimetype": "text/x-python",
   "name": "python",
   "nbconvert_exporter": "python",
   "pygments_lexer": "ipython3",
   "version": "3.9.12"
  }
 },
 "nbformat": 4,
 "nbformat_minor": 5
}
